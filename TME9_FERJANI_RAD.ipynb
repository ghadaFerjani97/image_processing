{
 "cells": [
  {
   "cell_type": "markdown",
   "metadata": {},
   "source": [
    "# TME 9: Merge\n",
    "> Consignes: le fichier TME8_Sujet.ipynb est à déposer sur le site Moodle de l'UE https://moodle-sciences.upmc.fr/moodle-2018/course/view.php?id=4650. Si vous êtes en binôme, renommez-le en TME8_nom1_nom2.ipynb.\n",
    "\n",
    "N'oubliez pas de sauvegarder fréquemment votre notebook !!\n",
    "\n",
    "## Données et codes utiles au TME"
   ]
  },
  {
   "cell_type": "code",
   "execution_count": 1,
   "metadata": {},
   "outputs": [],
   "source": [
    "from PIL import Image\n",
    "from pylab import *\n",
    "\n",
    "### Données\n",
    "img_test = full((64,64),150,dtype=uint8)\n",
    "img_test[32:48,16:16+32] = 100\n",
    "img_test[8:24,40:56] = 50\n",
    "angio = array(Image.open('images/angiogra.png'))\n",
    "cam = array(Image.open('images/cameraman.png'))\n",
    "muscle = array(Image.open('images/muscle.png'))\n",
    "prisme = array(Image.open('images/prisme.png'))\n",
    "seiche = array(Image.open('images/seiche.png'))\n",
    "\n",
    "### Fonction d'affichage\n",
    "def affichage_14(affichages,titres=None):\n",
    "    \"\"\" list[Array]*list[str] -> NoneType\n",
    "    Dffectue entre 1 et 4 affichages avec leurs titres, pour des images ou courbes\n",
    "    \n",
    "    Paramètres :\n",
    "      - liste des affichages (entre 1 et 4)\n",
    "      - liste des titres (entre 1 et 4, autant que de affichages), optionnelle    \n",
    "    \"\"\"\n",
    "    \n",
    "    if not type(affichages) == type([]):\n",
    "        affichages = [affichages]\n",
    "        \n",
    "    if titres is None:\n",
    "        titres = ['',]*len(affichages)\n",
    "        \n",
    "    if not type(titres) == type([]):\n",
    "        titres = [titres]\n",
    "    \n",
    "    nb_affichages = len(affichages)\n",
    "    if nb_affichages >4 or nb_affichages < 1 :\n",
    "        raise ValueError('affichage_14 nécéssite 1 à 4 entrées en paramètre')        \n",
    "        \n",
    "    if nb_affichages != len(titres):\n",
    "        raise ValueError('affichage_14 nécéssite autant de titres que d\\'affichages')\n",
    "        \n",
    "    courbes = False\n",
    "    for i in range(0,nb_affichages):\n",
    "        s = subplot(101+10*nb_affichages+i)\n",
    "        s.set_title(titres[i])\n",
    "        if len(affichages[i].shape)==2 and affichages[i].shape[0] > 1 and affichages[i].shape[1] > 1:\n",
    "            # on affiche une image\n",
    "            s.imshow(affichages[i], cmap=\"gray\",interpolation='nearest', aspect='equal')\n",
    "        else :\n",
    "            # il s'agit d'une seule ligne, à afficher comme une courbe\n",
    "            plot(affichages[i])\n",
    "            courbes=True\n",
    "\n",
    "    agrandissement_h = nb_affichages\n",
    "    agrandissement_v = nb_affichages*2 if courbes else nb_affichages\n",
    "    params = gcf()\n",
    "    plSize = params.get_size_inches()\n",
    "    params.set_size_inches( (plSize[0]*agrandissement_v, plSize[1]*agrandissement_h) )\n",
    "    show()\n",
    "\n"
   ]
  },
  {
   "cell_type": "markdown",
   "metadata": {},
   "source": [
    "Recopier ci-dessous le code des fonctions ``split()``, ``predsplit1()`` et ``splitprof()``\n",
    "écrites au TME 8:"
   ]
  },
  {
   "cell_type": "code",
   "execution_count": 2,
   "metadata": {},
   "outputs": [],
   "source": [
    "def split(I,reg,pred,*args):\n",
    "    \"\"\" Array*Bloc*(Array*Bloc*...->bool)*... -> 4-aire\n",
    "        Découpage de I en arbre 4-aire sur un critère d'écart-type minimal\n",
    "    \"\"\"\n",
    "    x,y,n,m = reg\n",
    "    hx = n//2\n",
    "    hy = m//2\n",
    "    if pred(I,reg,*args) == True:\n",
    "        NO = split(I,(x,y,hx,hy),pred,*args)\n",
    "        NE = split(I,(x+hx,y,hx,hy),pred,*args)\n",
    "        SO = split(I,(x,y+hy,hx,hy),pred,*args)\n",
    "        SE = split(I,(x+hx,y+hy,hx,hy),pred,*args)\n",
    "        return [NO,NE,SO,SE]\n",
    "    else:\n",
    "        return [reg]\n",
    "\n",
    "def predsplit1(I,reg,*args):\n",
    "    \"\"\" Array*Bloc*... -> bool\n",
    "    \"\"\"\n",
    "    x,y,m,n = reg\n",
    "    ecart_type = np.std(I[x:x+n,y:y+m])\n",
    "    return ecart_type>args[0]\n",
    "\n",
    "def splitprof(L):\n",
    "    \"\"\" 4-aire -> list[Bloc]\"\"\"\n",
    "    if len(L)==1:\n",
    "        return L\n",
    "    else:\n",
    "        lst = []\n",
    "        for f in L:\n",
    "               lst=lst+splitprof(f)\n",
    "        return lst"
   ]
  },
  {
   "cell_type": "markdown",
   "metadata": {},
   "source": [
    "## Exercice 1\n",
    "### Question 1\n",
    "Modifier la fonction ``splitprof(L)`` pour en faire une fonction ``splitprofstat(L,I)`` qui rend une liste de feuilles de l'arbre 4-aire ``L`` et telle que chaque élément de cette liste, de type ``Bloc``, est enrichi de trois scalaires, le premier étant la taille, le second la moyenne et la troisième la variance des valeurs de pixels du bloc dans l'image ``I``. Cette fonction rend alors une liste dont les éléments ont pour type formel:\n",
    "```python\n",
    "type Blocstat = tuple[int**4,int,float**2]\n",
    "```\n",
    "Les quatre premières valeurs sont celles du type ``Bloc``, la cinquième est la taille du bloc (en nombre de pixels) et les deux dernières correspondent à la moyenne et la variance calculées sur la région.\n"
   ]
  },
  {
   "cell_type": "code",
   "execution_count": 3,
   "metadata": {},
   "outputs": [],
   "source": [
    "# type Blocstat = tuple[int**4,int,float**2]\n",
    "\n",
    "def splitprofstats(L,I):\n",
    "    lst=splitprof(L)\n",
    "    lst_1=[]\n",
    "    for bloc in lst:\n",
    "        x,y,n,m=bloc\n",
    "        nb=n*m\n",
    "        mu=np.mean(I[x:x+n,y:y+m])\n",
    "        var=(np.std(I[x:x+n,y:y+m])**2)\n",
    "        b=(x,y,n,m,nb,mu,var)\n",
    "        lst_1.append(b)\n",
    "    return lst_1\n"
   ]
  },
  {
   "cell_type": "markdown",
   "metadata": {},
   "source": [
    "### Question 2\n",
    "Dans la suite du TME, on considère le type formel:\n",
    "```python\n",
    "type Region = list[Blocstat]\n",
    "```\n",
    "Une région, comme vu au TME, est donc une liste de blocs. Écrire le prédicat de fusion ``predmerge(b,R,*args)`` vu en TD. Cette fonction retourne ```True``` si le bloc ``b`` doit fusionner dans la région ``R``. Si telle est le cas, alors le premier élément de la liste ``R`` voit ses statistiques modifiées: elles décrivent celles de l'ensemble des blocs de la région ainsi fusionnée."
   ]
  },
  {
   "cell_type": "code",
   "execution_count": 9,
   "metadata": {},
   "outputs": [],
   "source": [
    "def predmerge(b,R,*args):\n",
    "    n1,mu1,var1=b[4:7]\n",
    "    x,y,nr,mr,n2,mu2,var2=R[0]\n",
    "    n=n1+n2\n",
    "    mu=(n1*mu1+n2*mu2)/n\n",
    "    var=((n1*(var1+mu1**2)+n2*(var2+mu2**2))/n)-mu**2\n",
    "    if var<=args[0]:\n",
    "        R[0]=(x,y,nr,mr,n,mu,var)\n",
    "        return True\n",
    "    else:\n",
    "        return False\n"
   ]
  },
  {
   "cell_type": "markdown",
   "metadata": {},
   "source": [
    "### Question 3\n",
    "Implémenter les fonctions ```estdans()```, ```sontvoisins()```, ```voisins()``` et finalement ```merge()``` vues en TD."
   ]
  },
  {
   "cell_type": "code",
   "execution_count": 19,
   "metadata": {},
   "outputs": [],
   "source": [
    "def estdans(x,y,a):\n",
    "    xa,ya,na,ma=a[0:4]\n",
    "    return all([x>=xa,x<xa+na,y>=ya,y<ya+ma])\n",
    "\n",
    "def sontvoisins(a,b):\n",
    "    if b[2]<a[2] or b[3]<a[3]:\n",
    "        a,b=b,a\n",
    "    x,y,n,m=a[0:4]\n",
    "    xc=x+n//2\n",
    "    yc=y+m//2\n",
    "    return any([estdans(xc+n,yc,b),estdans(xc-n,yc,b),estdans(xc,yc+m,b),estdans(xc,yc-m,b)])\n",
    "\n",
    "def voisins(b,K):\n",
    "    N=[]\n",
    "    for n in K:\n",
    "        if sontvoisins(n,b):\n",
    "            N.append(n)\n",
    "    return N    \n",
    "\n",
    "# type Region = list[Blocstat]\n",
    "\n",
    "def merge(S,I,pred,*args):\n",
    "    L=[]\n",
    "    while(len(S)>0):\n",
    "        b=S[0]\n",
    "        S=S[1:]\n",
    "        R=[b]\n",
    "        N=voisins(b,S)\n",
    "        while(len(N)>0):\n",
    "            bi=N[0]\n",
    "            N=N[1:]\n",
    "            if(pred(bi,R,*args)):\n",
    "                R.append(bi)\n",
    "                S.remove(bi)\n",
    "                V=voisins(bi,S)\n",
    "                for v in V:\n",
    "                    if v not in N :\n",
    "                        N.append(v)\n",
    "        L.append(R)\n",
    "    return L"
   ]
  },
  {
   "cell_type": "markdown",
   "metadata": {},
   "source": [
    "### Question 4\n",
    "Faire la mise au point des fonctions précédentes à l'aide de l'image ``img_test``."
   ]
  },
  {
   "cell_type": "code",
   "execution_count": 21,
   "metadata": {},
   "outputs": [
    {
     "name": "stdout",
     "output_type": "stream",
     "text": [
      "[[(0, 0, 32, 32, 3328, 150.0, 0.0), (32, 0, 16, 16, 256, 150.0, 0.0), (0, 32, 8, 8, 64, 150.0, 0.0), (8, 32, 8, 8, 64, 150.0, 0.0), (16, 32, 8, 8, 64, 150.0, 0.0), (24, 32, 8, 8, 64, 150.0, 0.0), (48, 0, 16, 16, 256, 150.0, 0.0), (0, 40, 8, 8, 64, 150.0, 0.0), (24, 40, 8, 8, 64, 150.0, 0.0), (48, 16, 16, 16, 256, 150.0, 0.0), (0, 48, 8, 8, 64, 150.0, 0.0), (24, 48, 8, 8, 64, 150.0, 0.0), (48, 32, 16, 16, 256, 150.0, 0.0), (0, 56, 8, 8, 64, 150.0, 0.0), (24, 56, 8, 8, 64, 150.0, 0.0), (32, 48, 16, 16, 256, 150.0, 0.0), (48, 48, 16, 16, 256, 150.0, 0.0), (8, 56, 8, 8, 64, 150.0, 0.0), (16, 56, 8, 8, 64, 150.0, 0.0)], [(32, 16, 16, 16, 512, 100.0, 0.0), (32, 32, 16, 16, 256, 100.0, 0.0)], [(8, 40, 8, 8, 256, 50.0, 0.0), (16, 40, 8, 8, 64, 50.0, 0.0), (8, 48, 8, 8, 64, 50.0, 0.0), (16, 48, 8, 8, 64, 50.0, 0.0)]]\n"
     ]
    }
   ],
   "source": [
    "reg=(0,0,img_test.shape[0],img_test.shape[1])\n",
    "s=5\n",
    "L=split(img_test,reg,predsplit1,s)\n",
    "S=splitprofstats(L,img_test)\n",
    "M=merge(S,img_test,predmerge,s)\n",
    "print(M)"
   ]
  },
  {
   "cell_type": "markdown",
   "metadata": {},
   "source": [
    "### Question 5\n",
    "Écrire une fonction ``regions(LR,shape)`` qui prend une liste de régions telle que rendu par la fonction ``merge()`` et rend une image des régions. Chaque région sera colorée avec le niveau de gris correspondant à la moyenne de la région. Le paramètre ``shape`` donne la taille de l'image à produire. Tester la fonction sur l'exemple précédent."
   ]
  },
  {
   "cell_type": "code",
   "execution_count": 29,
   "metadata": {},
   "outputs": [
    {
     "data": {
      "image/png": "[encoded data removed]",
      "text/plain": [
       "<Figure size 432x288 with 1 Axes>"
      ]
     },
     "metadata": {},
     "output_type": "display_data"
    }
   ],
   "source": [
    "def regions(LR,shape):\n",
    "    \"\"\" list[Region] -> Array \"\"\"\n",
    "    buf = zeros(shape,dtype=uint8)\n",
    "    for R in LR:\n",
    "        x,y,n,m,s,mu,v=R[0]\n",
    "        for b in R:\n",
    "            x,y,n,m,s,t,v=b\n",
    "            buf[x:x+n,y:y+m] = int(mu)\n",
    "    return buf\n",
    "\n"
   ]
  },
  {
   "cell_type": "markdown",
   "metadata": {},
   "source": [
    "## Exercice 2: expérimentation\n",
    "### Question 1:\n",
    "Tester la fonction ``merge()`` sur les images ``angio``, ``cam``, ``muscle``, ``prisme`` et ``seiche``."
   ]
  },
  {
   "cell_type": "code",
   "execution_count": 38,
   "metadata": {},
   "outputs": [
    {
     "data": {
      "image/png": "[encoded data removed]",
      "text/plain": [
       "<Figure size 432x288 with 1 Axes>"
      ]
     },
     "metadata": {},
     "output_type": "display_data"
    },
    {
     "data": {
      "image/png": "[encoded data removed]",
      "text/plain": [
       "<Figure size 432x288 with 1 Axes>"
      ]
     },
     "metadata": {},
     "output_type": "display_data"
    },
    {
     "data": {
      "image/png": "[encoded data removed]",
      "text/plain": [
       "<Figure size 432x288 with 1 Axes>"
      ]
     },
     "metadata": {},
     "output_type": "display_data"
    },
    {
     "data": {
      "image/png": "[encoded data removed]",
      "text/plain": [
       "<Figure size 432x288 with 1 Axes>"
      ]
     },
     "metadata": {},
     "output_type": "display_data"
    },
    {
     "data": {
      "image/png": "[encoded data removed]",
      "text/plain": [
       "<Figure size 432x288 with 1 Axes>"
      ]
     },
     "metadata": {},
     "output_type": "display_data"
    }
   ],
   "source": [
    "def test(I,s1,s2):\n",
    "    reg=(0,0,I.shape[0],I.shape[1])\n",
    "    L=split(I,reg,predsplit1,s1)\n",
    "    S=splitprofstats(L,I)\n",
    "    M=merge(S,I,predmerge,s2)\n",
    "    regs = regions(M,I.shape)\n",
    "    plt.figure()\n",
    "    plt.imshow(regs)\n",
    "    plt.gray()\n",
    "\n",
    "s1=50\n",
    "s2=5\n",
    "test(angio,s1,s2)\n",
    "test(cam,s1,s2)\n",
    "test(muscle,s1,s2)\n",
    "test(prisme,s1,s2)\n",
    "test(seiche,s1,s2)"
   ]
  },
  {
   "cell_type": "markdown",
   "metadata": {},
   "source": [
    "### Question 2 (bonus):\n",
    "Utiliser un critère de découpage alternatif, par exemple celui proposé en cours: on fusionne qui la variance de la région fusionné est plus petite que celle de la région non fusionnée. Tester sur les images."
   ]
  },
  {
   "cell_type": "code",
   "execution_count": null,
   "metadata": {},
   "outputs": [],
   "source": []
  },
  {
   "cell_type": "markdown",
   "metadata": {},
   "source": [
    "### Question 3 (bonus):\n",
    "La fusion dépend de la façon dont on visite les régions. On peut alors faire un tri des feuilles de l'arbre 4-aire, par exemple, des blocs les plus gros aux plus petits, ou le contraire (utiliser la fonction Python ``sorted()``). La même question peut se poser lorsqu'on calcule l'ensemble des voisins de la région que l'on fusionne. Faut-il les trier ? Si oui, selon quel critère ? leur taille ? leur proximité ? Evidemment il n'y a pas de réponse universelle mais adaptée à chaque type de problème. Faites quelques tests pour voir l'influence de ces tris sur le résultat de la fusion."
   ]
  },
  {
   "cell_type": "code",
   "execution_count": null,
   "metadata": {},
   "outputs": [],
   "source": []
  }
 ],
 "metadata": {
  "kernelspec": {
   "display_name": "Python 3",
   "language": "python",
   "name": "python3"
  },
  "language_info": {
   "codemirror_mode": {
    "name": "ipython",
    "version": 3
   },
   "file_extension": ".py",
   "mimetype": "text/x-python",
   "name": "python",
   "nbconvert_exporter": "python",
   "pygments_lexer": "ipython3",
   "version": "3.5.3"
  }
 },
 "nbformat": 4,
 "nbformat_minor": 2
}
