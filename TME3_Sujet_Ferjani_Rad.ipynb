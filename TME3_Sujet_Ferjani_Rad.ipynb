{
 "cells": [
  {
   "cell_type": "markdown",
   "metadata": {},
   "source": [
    "# TME3: introduction à Numpy\n",
    "\n",
    "> Consignes: le fichier TME3_Sujet.ipynb est à déposer sur le site Moodle de l'UE https://moodle-sciences.upmc.fr/moodle-2018/course/view.php?id=4650. Si vous êtes en binôme, renommez-le en TME3_nom1_nom2.ipynb.\n",
    "\n",
    "## Exercice 1: \n",
    "Implémenter les exemples vu en TD. Imprimer les tableaux résultats pour vérification."
   ]
  },
  {
   "cell_type": "code",
   "execution_count": 1,
   "metadata": {},
   "outputs": [
    {
     "name": "stdout",
     "output_type": "stream",
     "text": [
      "<class 'numpy.ndarray'>\n",
      "nb dimension =  2  taille de chaque dimension =  (10, 10)  nb elements =  100\n",
      "0.06346651825433947 0.06283185307179587\n"
     ]
    },
    {
     "data": {
      "text/plain": [
       "<Figure size 640x480 with 1 Axes>"
      ]
     },
     "metadata": {},
     "output_type": "display_data"
    },
    {
     "name": "stdout",
     "output_type": "stream",
     "text": [
      "0.479652332538331\n",
      "20\n"
     ]
    }
   ],
   "source": [
    "from PIL import Image\n",
    "import numpy as np\n",
    "import math as m\n",
    "import matplotlib.pyplot as plt\n",
    "\n",
    "\n",
    "#Exercice 1\n",
    "# Q 1\n",
    "tab = np.arange(0,100).reshape(10,10)\n",
    "print(type(tab))\n",
    "# Q 2 \n",
    "tab = tab.astype('int8')\n",
    "# Q 3\n",
    "tab1 = tab.astype('float32')\n",
    "tab2 = tab.astype('float64')\n",
    "# Q 4\n",
    "print(\"nb dimension = \",tab.ndim,\" taille de chaque dimension = \",np.shape(tab),\" nb elements = \",np.size(tab))\n",
    "\n",
    "# Q 5\n",
    "v = np.zeros(100)\n",
    "\n",
    "# Q 6\n",
    "u = np.zeros((20,30))\n",
    "# Q 7\n",
    "w = np.zeros((20,30,3))\n",
    "for i in range(len(w)):\n",
    "    for j in range(len(w[0])):\n",
    "        for k in range(len(w[0][0])):\n",
    "            w[i][j][k] = 255\n",
    "               \n",
    "# Exercice 2\n",
    "\n",
    "#Q 1\n",
    "\n",
    "def moy(tab):\n",
    "    somme = 0\n",
    "    nb = 0\n",
    "    for ligne in tab:\n",
    "        for e in ligne:\n",
    "            somme+=e\n",
    "            nb+=1\n",
    "    return somme/nb\n",
    "# Q 2\n",
    "\n",
    "x = np.linspace(-m.pi,m.pi,100)\n",
    "#la taille de chaque intervalle est 2pi/100\n",
    "print(x[1]-x[0],2*m.pi/100)\n",
    "# Q 3\n",
    "y=[]\n",
    "for i in range(len(x)):\n",
    "    y.append(m.sin(x[i]))\n",
    "    \n",
    "# Q 4\n",
    "plt.plot(x,y)\n",
    "plt.show()\n",
    "\n",
    "# Q 5\n",
    "X = np.linspace(-3,3,100)\n",
    "Z = np.zeros((100,100))\n",
    "for i in range(100):\n",
    "    for j in range(100):\n",
    "        Z[i][j] = m.exp(-X[i]**2-X[j]**2)\n",
    "# Q 6\n",
    "Z[:,0] = 0\n",
    "Z[0,:] = 0\n",
    "Z[:,99] = 0\n",
    "Z[99,:] = 0\n",
    "Z = Z.astype('uint8')\n",
    "img = Image.fromarray(Z).convert('L')\n",
    "#plt.imshow(img)\n",
    "\n",
    "# Q 7\n",
    "c1 = Z[:,0]\n",
    "l1=Z[0,:]\n",
    "c100=Z[:,99]\n",
    "l100=Z[99,:]\n",
    "\n",
    "Z=np.zeros((100,100))\n",
    "Z[:,0]=c1\n",
    "Z[0,:]=l1\n",
    "Z[:,99]=c100\n",
    "Z[99,:]=l100\n",
    "\n",
    "# Exercice 3\n",
    "\n",
    "# Q 1\n",
    "M = np.random.rand(10,10)\n",
    "moyenne = np.sum(M)/np.size(M)\n",
    "print(moyenne)\n",
    "\n",
    "# Q 2\n",
    "\n",
    "# Q 3\n",
    "y = np.sin(x)\n",
    "\n",
    "# Q 4\n",
    "ex = [-m.exp(e)**2 for e in X]\n",
    "e_x = np.array([ex])\n",
    "z = np.matmul(e_x.transpose(),e_x)\n",
    "# Q 5\n",
    "rd = np.random.randint(0,10,size = (12,10))\n",
    "nb5 = 0\n",
    "for ligne in rd:\n",
    "    for e in ligne:\n",
    "        if e==5:\n",
    "            nb5+=1\n",
    "print(nb5)"
   ]
  },
  {
   "cell_type": "markdown",
   "metadata": {},
   "source": [
    "## Exercice 2: Numpy et les images\n",
    "\n",
    "### 2.1 Normalisation\n",
    "Normaliser l'image <tt>img/seiche.png</tt>. Indication: utiliser les méthodes <tt>min()</tt> et <tt>max()</tt> de la classe <tt>ndarray</tt>. Afficher l'image PIL <tt>seiche.png</tt> puis le tableau numpy normalisé. Ps: si l'image numpy apparait colorée, utiliser la fonction gray() qui fixe la palette de couleurs d'<tt>imshow()</tt> en niveaux de gris."
   ]
  },
  {
   "cell_type": "code",
   "execution_count": 2,
   "metadata": {},
   "outputs": [
    {
     "ename": "FileNotFoundError",
     "evalue": "[Errno 2] No such file or directory: 'img/seiche.png'",
     "output_type": "error",
     "traceback": [
      "\u001b[0;31m---------------------------------------------------------------------------\u001b[0m",
      "\u001b[0;31mFileNotFoundError\u001b[0m                         Traceback (most recent call last)",
      "\u001b[0;32m<ipython-input-2-d685a4f20b8c>\u001b[0m in \u001b[0;36m<module>\u001b[0;34m\u001b[0m\n\u001b[1;32m      8\u001b[0m     \u001b[0;32mreturn\u001b[0m \u001b[0;34m(\u001b[0m\u001b[0;34m(\u001b[0m\u001b[0mimg\u001b[0m\u001b[0;34m-\u001b[0m\u001b[0mmini\u001b[0m\u001b[0;34m)\u001b[0m\u001b[0;34m*\u001b[0m\u001b[0;34m(\u001b[0m\u001b[0mB\u001b[0m\u001b[0;34m-\u001b[0m\u001b[0mA\u001b[0m\u001b[0;34m)\u001b[0m\u001b[0;34m//\u001b[0m\u001b[0;34m(\u001b[0m\u001b[0mmaxi\u001b[0m\u001b[0;34m-\u001b[0m\u001b[0mmini\u001b[0m\u001b[0;34m)\u001b[0m\u001b[0;34m)\u001b[0m\u001b[0;34m+\u001b[0m\u001b[0mA\u001b[0m\u001b[0;34m\u001b[0m\u001b[0;34m\u001b[0m\u001b[0m\n\u001b[1;32m      9\u001b[0m \u001b[0;34m\u001b[0m\u001b[0m\n\u001b[0;32m---> 10\u001b[0;31m \u001b[0mImg\u001b[0m\u001b[0;34m=\u001b[0m\u001b[0mImage\u001b[0m\u001b[0;34m.\u001b[0m\u001b[0mopen\u001b[0m\u001b[0;34m(\u001b[0m\u001b[0;34m\"img/seiche.png\"\u001b[0m\u001b[0;34m)\u001b[0m\u001b[0;34m\u001b[0m\u001b[0;34m\u001b[0m\u001b[0m\n\u001b[0m\u001b[1;32m     11\u001b[0m \u001b[0mimg\u001b[0m\u001b[0;34m=\u001b[0m\u001b[0mlist\u001b[0m\u001b[0;34m(\u001b[0m\u001b[0mImg\u001b[0m\u001b[0;34m.\u001b[0m\u001b[0mgetdata\u001b[0m\u001b[0;34m(\u001b[0m\u001b[0;34m)\u001b[0m\u001b[0;34m)\u001b[0m\u001b[0;34m\u001b[0m\u001b[0;34m\u001b[0m\u001b[0m\n\u001b[1;32m     12\u001b[0m \u001b[0mimg\u001b[0m\u001b[0;34m=\u001b[0m\u001b[0mnp\u001b[0m\u001b[0;34m.\u001b[0m\u001b[0marray\u001b[0m\u001b[0;34m(\u001b[0m\u001b[0mimg\u001b[0m\u001b[0;34m)\u001b[0m\u001b[0;34m\u001b[0m\u001b[0;34m\u001b[0m\u001b[0m\n",
      "\u001b[0;32m~/anaconda3/lib/python3.7/site-packages/PIL/Image.py\u001b[0m in \u001b[0;36mopen\u001b[0;34m(fp, mode)\u001b[0m\n\u001b[1;32m   2607\u001b[0m \u001b[0;34m\u001b[0m\u001b[0m\n\u001b[1;32m   2608\u001b[0m     \u001b[0;32mif\u001b[0m \u001b[0mfilename\u001b[0m\u001b[0;34m:\u001b[0m\u001b[0;34m\u001b[0m\u001b[0;34m\u001b[0m\u001b[0m\n\u001b[0;32m-> 2609\u001b[0;31m         \u001b[0mfp\u001b[0m \u001b[0;34m=\u001b[0m \u001b[0mbuiltins\u001b[0m\u001b[0;34m.\u001b[0m\u001b[0mopen\u001b[0m\u001b[0;34m(\u001b[0m\u001b[0mfilename\u001b[0m\u001b[0;34m,\u001b[0m \u001b[0;34m\"rb\"\u001b[0m\u001b[0;34m)\u001b[0m\u001b[0;34m\u001b[0m\u001b[0;34m\u001b[0m\u001b[0m\n\u001b[0m\u001b[1;32m   2610\u001b[0m         \u001b[0mexclusive_fp\u001b[0m \u001b[0;34m=\u001b[0m \u001b[0;32mTrue\u001b[0m\u001b[0;34m\u001b[0m\u001b[0;34m\u001b[0m\u001b[0m\n\u001b[1;32m   2611\u001b[0m \u001b[0;34m\u001b[0m\u001b[0m\n",
      "\u001b[0;31mFileNotFoundError\u001b[0m: [Errno 2] No such file or directory: 'img/seiche.png'"
     ]
    }
   ],
   "source": [
    "from PIL import Image\n",
    "from pylab import *\n",
    "import numpy as np\n",
    "\n",
    "def normalisation(A,B,img):\n",
    "    mini =min(img)\n",
    "    maxi=max(img)\n",
    "    return ((img-mini)*(B-A)//(maxi-mini))+A\n",
    "\n",
    "Img=Image.open(\"img/seiche.png\")\n",
    "img=list(Img.getdata())\n",
    "img=np.array(img)\n",
    "tab=normalisation(0,255,img)\n",
    "print(tab)\n",
    "plt.figure(1)\n",
    "plt.imshow(Img)\n",
    "tab = tab.reshape(Img.size).astype('uint8')\n",
    "Img2 = Image.fromarray(tab,'L')\n",
    "plt.figure(2)\n",
    "Img2.show()"
   ]
  },
  {
   "cell_type": "markdown",
   "metadata": {},
   "source": [
    "### 2.2 Visualisation PIL et Numpy\n",
    "Lire l'image <tt>img/CT-scan.png</tt> (une coupe d'une acquisition d'un scanner X d'un corps humain) avec PIL et sa classe <tt>Image</tt>. Imprimer les extremas de l'image et l'image PIL. Transformer-là en tableau Numpy. A nouveau afficher ce tableau sous forme d'image. Que constatez-vous ?"
   ]
  },
  {
   "cell_type": "code",
   "execution_count": 41,
   "metadata": {},
   "outputs": [
    {
     "name": "stdout",
     "output_type": "stream",
     "text": [
      "0 2244\n"
     ]
    },
    {
     "data": {
      "image/png": "[encoded data removed]",
      "text/plain": [
       "<Figure size 432x288 with 1 Axes>"
      ]
     },
     "metadata": {
      "needs_background": "light"
     },
     "output_type": "display_data"
    },
    {
     "data": {
      "image/png": "[encoded data removed]",
      "text/plain": [
       "<Figure size 432x288 with 1 Axes>"
      ]
     },
     "metadata": {
      "needs_background": "light"
     },
     "output_type": "display_data"
    }
   ],
   "source": [
    "CT = Image.open('img/CT-scan.png')\n",
    "data=list(CT.getdata())\n",
    "data=np.array(data)\n",
    "mini=min(data)\n",
    "maxi=max(data)\n",
    "print(mini,maxi)\n",
    "plt.figure(1)\n",
    "plt.imshow(CT)\n",
    "plt.figure(2)\n",
    "plt.imshow(data.reshape(CT.size))\n",
    "plt.gray()\n",
    "# il normalise automatiquement"
   ]
  },
  {
   "cell_type": "markdown",
   "metadata": {},
   "source": [
    "### 2.3 Seuillage\n",
    "Prendre le tableau numpy de la question précédente. Appliquer un seuillage haut au seuil 255. \n",
    "Remarque: cette opération se fait une instruction Python. Afficher le résultat sous forme d'image et comparer avec l'image PIL affichée à la question précédente. Qu'en déduisez vous du comportement de imshow() sur les images PIL ?"
   ]
  },
  {
   "cell_type": "code",
   "execution_count": 42,
   "metadata": {},
   "outputs": [
    {
     "data": {
      "image/png": "[encoded data removed]",
      "text/plain": [
       "<Figure size 432x288 with 1 Axes>"
      ]
     },
     "metadata": {
      "needs_background": "light"
     },
     "output_type": "display_data"
    }
   ],
   "source": [
    "def seuillage(s,data):\n",
    "    bi = np.zeros(len(data))\n",
    "    for i in range(len(data)):\n",
    "        if data[i]>s :\n",
    "            bi[i] = 1\n",
    "        else :\n",
    "            bi[i] = 0\n",
    "    return bi\n",
    "\n",
    "bi=seuillage(255,data)\n",
    "plt.imshow(bi.reshape(CT.size))\n",
    "plt.gray()\n",
    "#comme les deux images sont similaires , on peut en deduire que pour les pixels dont la valeur depasse 255 sont remis à 255 "
   ]
  },
  {
   "cell_type": "markdown",
   "metadata": {},
   "source": [
    "### 2.4 Seuillage - suite\n",
    "Sur la même image, appliquer un seuillage à 1000 et commenter la visualisation de l'image seuillée. Essayer d'autres valeurs de seuils pour différentier certains organes.\n"
   ]
  },
  {
   "cell_type": "code",
   "execution_count": 43,
   "metadata": {},
   "outputs": [
    {
     "data": {
      "image/png": "[encoded data removed]",
      "text/plain": [
       "<Figure size 432x288 with 1 Axes>"
      ]
     },
     "metadata": {
      "needs_background": "light"
     },
     "output_type": "display_data"
    }
   ],
   "source": [
    "bi1=seuillage(1000,data)\n",
    "plt.imshow(bi1.reshape(CT.size))\n",
    "plt.gray()\n",
    "#visualisation des contours des régions plus clairs"
   ]
  },
  {
   "cell_type": "markdown",
   "metadata": {},
   "source": [
    "### 2.4 Damier\n",
    "Comment fabriquer une image qui représente un damier (alternance de 6 cases blanches et 6 cases noires en ligne et en colonne), chaque case étant de taille 20 par 20. On pourra utiliser les fonctions <tt>hstack()</tt>, <tt>vstack()</tt> et <tt>tile()</tt>."
   ]
  },
  {
   "cell_type": "code",
   "execution_count": 44,
   "metadata": {},
   "outputs": [
    {
     "data": {
      "text/plain": [
       "<matplotlib.image.AxesImage at 0x21b8e077128>"
      ]
     },
     "execution_count": 44,
     "metadata": {},
     "output_type": "execute_result"
    },
    {
     "data": {
      "image/png": "[encoded data removed]",
      "text/plain": [
       "<Figure size 432x288 with 1 Axes>"
      ]
     },
     "metadata": {
      "needs_background": "light"
     },
     "output_type": "display_data"
    }
   ],
   "source": [
    "N=Image.new('1',(20,20),0)\n",
    "B=Image.new('1',(20,20),1)\n",
    "v=np.vstack((N,B))\n",
    "u=np.vstack((B,N))\n",
    "uv=np.hstack((u,v))\n",
    "damier=np.tile(uv,(3,3))\n",
    "plt.imshow(damier)"
   ]
  },
  {
   "cell_type": "markdown",
   "metadata": {},
   "source": [
    "## Exercice 3: Manipulation et parcours de tableaux\n",
    "### 3.1 Permutation de colonnes\n",
    "Écrire un code Python qui créé un tableau <tt>A</tt> initialisé à des valeurs quelconque, ou bien une image lue sur le disque, construit un tableau <tt>B</tt> de même taille qui contient en première colonne la dernière colonne de <tt>A</tt>, et pour ses colonnes restantes, les premières colonnes de <tt>A</tt>. \n"
   ]
  },
  {
   "cell_type": "code",
   "execution_count": 4,
   "metadata": {},
   "outputs": [
    {
     "name": "stdout",
     "output_type": "stream",
     "text": [
      "[[-15   6 -11  -3 -16  -5  15   6  -4 -17  17  10  -3   2 -10   8  -8  -3\n",
      "    1 -11]\n",
      " [  3 -12 -18  10  -4  12   9 -16 -14 -15  -9   1  -2 -12 -10  19  -2 -17\n",
      "   19   9]\n",
      " [  4 -11  -9  15  14  -5 -18 -15  15   3  12   4  12 -16 -17  -7 -14 -11\n",
      "    9  -8]\n",
      " [-18  -8   5  -5  19  10 -20  -4   8   3  -6  -3  -8  -8  -3  -3  -8 -16\n",
      "    9  -9]\n",
      " [  1 -16   7   3 -18   4   2   9 -12  14  14  16  -3  -7   1   2 -16  15\n",
      "   -9 -20]\n",
      " [ 10  13  -8   1   4  -8  16  -5  11 -10  -3  -6  -2  -7   0  13  -3 -12\n",
      "   -1 -20]\n",
      " [ 17 -14 -18  18 -18   0   9   3  16   6 -12  -9   9  14   0  -9 -13   6\n",
      "   15 -11]\n",
      " [  8  -2   1 -20   4 -18 -19  -2   5   3  14 -17   6 -13  15  16   4 -11\n",
      "   -7 -17]\n",
      " [-13  -7 -11   8  -6 -11  17 -19 -19   8  -8   2   4 -12   3   0   5  10\n",
      "   10  19]\n",
      " [-12  -9   3  16  -8 -14  13  -2   7  -3   0   6 -12   1  14 -10 -16  -2\n",
      "    9  11]\n",
      " [-20  15  -9  12   6   7 -20   7  -7  -3 -17   0 -14  -3 -19  16  13  19\n",
      "   -2   9]\n",
      " [-19   1 -10  -7   0   7  14  -7 -18   6  -1  16  17  -8  -2   9  15  10\n",
      "   16   6]\n",
      " [  9   6  -7  -3  -6  -3 -15  -9   2  19   6 -12  -7  -4  11  18  -2   3\n",
      "   13 -10]\n",
      " [-16  -3   9 -12 -11 -20  19   0 -15   9 -13  16  -9  -3   8 -17   8   6\n",
      "    7   5]\n",
      " [  5   2  10 -11   9   4 -15  17  -3  -1 -16  -3   9 -12 -12  -9 -18  -3\n",
      "  -18   0]\n",
      " [ 18   1  -8   6  -4  -9   4 -14  -9   2   0 -14 -12  10  -1  -3  12  15\n",
      "    9  18]\n",
      " [ -4  -2  14  18   8  -8  11  -2 -15   4 -13  18  17 -20   1  13  -7 -17\n",
      "   -2  -7]\n",
      " [ -8 -10 -19  18 -18  -6   0  10   8   4   7  16   1 -19  -1  -1  -8   1\n",
      "  -20 -16]\n",
      " [ -8  10 -10   3 -20 -19   4  -6 -10 -20   8  16   0   8 -12   3   3 -12\n",
      "    5  11]\n",
      " [-10 -15  -7   9 -12   0 -16   5  16 -11   7   6  -7   8 -10 -13 -11 -17\n",
      "   15 -10]]\n",
      "[[-11. -15.   6. -11.  -3. -16.  -5.  15.   6.  -4. -17.  17.  10.  -3.\n",
      "    2. -10.   8.  -8.  -3.   1.]\n",
      " [  9.   3. -12. -18.  10.  -4.  12.   9. -16. -14. -15.  -9.   1.  -2.\n",
      "  -12. -10.  19.  -2. -17.  19.]\n",
      " [ -8.   4. -11.  -9.  15.  14.  -5. -18. -15.  15.   3.  12.   4.  12.\n",
      "  -16. -17.  -7. -14. -11.   9.]\n",
      " [ -9. -18.  -8.   5.  -5.  19.  10. -20.  -4.   8.   3.  -6.  -3.  -8.\n",
      "   -8.  -3.  -3.  -8. -16.   9.]\n",
      " [-20.   1. -16.   7.   3. -18.   4.   2.   9. -12.  14.  14.  16.  -3.\n",
      "   -7.   1.   2. -16.  15.  -9.]\n",
      " [-20.  10.  13.  -8.   1.   4.  -8.  16.  -5.  11. -10.  -3.  -6.  -2.\n",
      "   -7.   0.  13.  -3. -12.  -1.]\n",
      " [-11.  17. -14. -18.  18. -18.   0.   9.   3.  16.   6. -12.  -9.   9.\n",
      "   14.   0.  -9. -13.   6.  15.]\n",
      " [-17.   8.  -2.   1. -20.   4. -18. -19.  -2.   5.   3.  14. -17.   6.\n",
      "  -13.  15.  16.   4. -11.  -7.]\n",
      " [ 19. -13.  -7. -11.   8.  -6. -11.  17. -19. -19.   8.  -8.   2.   4.\n",
      "  -12.   3.   0.   5.  10.  10.]\n",
      " [ 11. -12.  -9.   3.  16.  -8. -14.  13.  -2.   7.  -3.   0.   6. -12.\n",
      "    1.  14. -10. -16.  -2.   9.]\n",
      " [  9. -20.  15.  -9.  12.   6.   7. -20.   7.  -7.  -3. -17.   0. -14.\n",
      "   -3. -19.  16.  13.  19.  -2.]\n",
      " [  6. -19.   1. -10.  -7.   0.   7.  14.  -7. -18.   6.  -1.  16.  17.\n",
      "   -8.  -2.   9.  15.  10.  16.]\n",
      " [-10.   9.   6.  -7.  -3.  -6.  -3. -15.  -9.   2.  19.   6. -12.  -7.\n",
      "   -4.  11.  18.  -2.   3.  13.]\n",
      " [  5. -16.  -3.   9. -12. -11. -20.  19.   0. -15.   9. -13.  16.  -9.\n",
      "   -3.   8. -17.   8.   6.   7.]\n",
      " [  0.   5.   2.  10. -11.   9.   4. -15.  17.  -3.  -1. -16.  -3.   9.\n",
      "  -12. -12.  -9. -18.  -3. -18.]\n",
      " [ 18.  18.   1.  -8.   6.  -4.  -9.   4. -14.  -9.   2.   0. -14. -12.\n",
      "   10.  -1.  -3.  12.  15.   9.]\n",
      " [ -7.  -4.  -2.  14.  18.   8.  -8.  11.  -2. -15.   4. -13.  18.  17.\n",
      "  -20.   1.  13.  -7. -17.  -2.]\n",
      " [-16.  -8. -10. -19.  18. -18.  -6.   0.  10.   8.   4.   7.  16.   1.\n",
      "  -19.  -1.  -1.  -8.   1. -20.]\n",
      " [ 11.  -8.  10. -10.   3. -20. -19.   4.  -6. -10. -20.   8.  16.   0.\n",
      "    8. -12.   3.   3. -12.   5.]\n",
      " [-10. -10. -15.  -7.   9. -12.   0. -16.   5.  16. -11.   7.   6.  -7.\n",
      "    8. -10. -13. -11. -17.  15.]]\n"
     ]
    }
   ],
   "source": [
    "A=np.random.randint(-20,20,(20,20))\n",
    "B=np.zeros(A.shape)\n",
    "B[:,0]=A[:,19]\n",
    "for i in range(1,20):\n",
    "    B[:,i]=A[:,i-1]\n",
    "print(A)\n",
    "print(B)"
   ]
  },
  {
   "cell_type": "markdown",
   "metadata": {},
   "source": [
    "### 3.2 Duplication de lignes et colonnes\n",
    "Écrire un code Python qui prend le même tableau <tt>A</tt>, créé un tableau <tt>A2</tt> ayant 2 lignes et deux colonnes de plus que <tt>A</tt> et telque :\n",
    " - <tt>A2</tt> privé de ses premières et dernières lignes et colonnes doit valoir <tt>A</tt>. \n",
    " - Les bords de <tt>A2</tt> doivent correspondre aux bords de <tt>A</tt>. Les valeurs aux coins de A2 ne devraient pas vous poser de problème !\n"
   ]
  },
  {
   "cell_type": "code",
   "execution_count": 9,
   "metadata": {},
   "outputs": [
    {
     "name": "stdout",
     "output_type": "stream",
     "text": [
      "[[  0. -15.   6. -11.  -3. -16.  -5.  15.   6.  -4. -17.  17.  10.  -3.\n",
      "    2. -10.   8.  -8.  -3.   1.   0.   0.]\n",
      " [-15. -15.   6. -11.  -3. -16.  -5.  15.   6.  -4. -17.  17.  10.  -3.\n",
      "    2. -10.   8.  -8.  -3.   1.   0. -11.]\n",
      " [  3.   3. -12. -18.  10.  -4.  12.   9. -16. -14. -15.  -9.   1.  -2.\n",
      "  -12. -10.  19.  -2. -17.  19.   0.   9.]\n",
      " [  4.   4. -11.  -9.  15.  14.  -5. -18. -15.  15.   3.  12.   4.  12.\n",
      "  -16. -17.  -7. -14. -11.   9.   0.  -8.]\n",
      " [-18. -18.  -8.   5.  -5.  19.  10. -20.  -4.   8.   3.  -6.  -3.  -8.\n",
      "   -8.  -3.  -3.  -8. -16.   9.   0.  -9.]\n",
      " [  1.   1. -16.   7.   3. -18.   4.   2.   9. -12.  14.  14.  16.  -3.\n",
      "   -7.   1.   2. -16.  15.  -9.   0. -20.]\n",
      " [ 10.  10.  13.  -8.   1.   4.  -8.  16.  -5.  11. -10.  -3.  -6.  -2.\n",
      "   -7.   0.  13.  -3. -12.  -1.   0. -20.]\n",
      " [ 17.  17. -14. -18.  18. -18.   0.   9.   3.  16.   6. -12.  -9.   9.\n",
      "   14.   0.  -9. -13.   6.  15.   0. -11.]\n",
      " [  8.   8.  -2.   1. -20.   4. -18. -19.  -2.   5.   3.  14. -17.   6.\n",
      "  -13.  15.  16.   4. -11.  -7.   0. -17.]\n",
      " [-13. -13.  -7. -11.   8.  -6. -11.  17. -19. -19.   8.  -8.   2.   4.\n",
      "  -12.   3.   0.   5.  10.  10.   0.  19.]\n",
      " [-12. -12.  -9.   3.  16.  -8. -14.  13.  -2.   7.  -3.   0.   6. -12.\n",
      "    1.  14. -10. -16.  -2.   9.   0.  11.]\n",
      " [-20. -20.  15.  -9.  12.   6.   7. -20.   7.  -7.  -3. -17.   0. -14.\n",
      "   -3. -19.  16.  13.  19.  -2.   0.   9.]\n",
      " [-19. -19.   1. -10.  -7.   0.   7.  14.  -7. -18.   6.  -1.  16.  17.\n",
      "   -8.  -2.   9.  15.  10.  16.   0.   6.]\n",
      " [  9.   9.   6.  -7.  -3.  -6.  -3. -15.  -9.   2.  19.   6. -12.  -7.\n",
      "   -4.  11.  18.  -2.   3.  13.   0. -10.]\n",
      " [-16. -16.  -3.   9. -12. -11. -20.  19.   0. -15.   9. -13.  16.  -9.\n",
      "   -3.   8. -17.   8.   6.   7.   0.   5.]\n",
      " [  5.   5.   2.  10. -11.   9.   4. -15.  17.  -3.  -1. -16.  -3.   9.\n",
      "  -12. -12.  -9. -18.  -3. -18.   0.   0.]\n",
      " [ 18.  18.   1.  -8.   6.  -4.  -9.   4. -14.  -9.   2.   0. -14. -12.\n",
      "   10.  -1.  -3.  12.  15.   9.   0.  18.]\n",
      " [ -4.  -4.  -2.  14.  18.   8.  -8.  11.  -2. -15.   4. -13.  18.  17.\n",
      "  -20.   1.  13.  -7. -17.  -2.   0.  -7.]\n",
      " [ -8.  -8. -10. -19.  18. -18.  -6.   0.  10.   8.   4.   7.  16.   1.\n",
      "  -19.  -1.  -1.  -8.   1. -20.   0. -16.]\n",
      " [ -8.  -8.  10. -10.   3. -20. -19.   4.  -6. -10. -20.   8.  16.   0.\n",
      "    8. -12.   3.   3. -12.   5.   0.  11.]\n",
      " [  0.   0.   0.   0.   0.   0.   0.   0.   0.   0.   0.   0.   0.   0.\n",
      "    0.   0.   0.   0.   0.   0.   0.   0.]\n",
      " [  0. -10. -15.  -7.   9. -12.   0. -16.   5.  16. -11.   7.   6.  -7.\n",
      "    8. -10. -13. -11. -17.  15.   0.   0.]]\n",
      "[[-15   6 -11  -3 -16  -5  15   6  -4 -17  17  10  -3   2 -10   8  -8  -3\n",
      "    1 -11]\n",
      " [  3 -12 -18  10  -4  12   9 -16 -14 -15  -9   1  -2 -12 -10  19  -2 -17\n",
      "   19   9]\n",
      " [  4 -11  -9  15  14  -5 -18 -15  15   3  12   4  12 -16 -17  -7 -14 -11\n",
      "    9  -8]\n",
      " [-18  -8   5  -5  19  10 -20  -4   8   3  -6  -3  -8  -8  -3  -3  -8 -16\n",
      "    9  -9]\n",
      " [  1 -16   7   3 -18   4   2   9 -12  14  14  16  -3  -7   1   2 -16  15\n",
      "   -9 -20]\n",
      " [ 10  13  -8   1   4  -8  16  -5  11 -10  -3  -6  -2  -7   0  13  -3 -12\n",
      "   -1 -20]\n",
      " [ 17 -14 -18  18 -18   0   9   3  16   6 -12  -9   9  14   0  -9 -13   6\n",
      "   15 -11]\n",
      " [  8  -2   1 -20   4 -18 -19  -2   5   3  14 -17   6 -13  15  16   4 -11\n",
      "   -7 -17]\n",
      " [-13  -7 -11   8  -6 -11  17 -19 -19   8  -8   2   4 -12   3   0   5  10\n",
      "   10  19]\n",
      " [-12  -9   3  16  -8 -14  13  -2   7  -3   0   6 -12   1  14 -10 -16  -2\n",
      "    9  11]\n",
      " [-20  15  -9  12   6   7 -20   7  -7  -3 -17   0 -14  -3 -19  16  13  19\n",
      "   -2   9]\n",
      " [-19   1 -10  -7   0   7  14  -7 -18   6  -1  16  17  -8  -2   9  15  10\n",
      "   16   6]\n",
      " [  9   6  -7  -3  -6  -3 -15  -9   2  19   6 -12  -7  -4  11  18  -2   3\n",
      "   13 -10]\n",
      " [-16  -3   9 -12 -11 -20  19   0 -15   9 -13  16  -9  -3   8 -17   8   6\n",
      "    7   5]\n",
      " [  5   2  10 -11   9   4 -15  17  -3  -1 -16  -3   9 -12 -12  -9 -18  -3\n",
      "  -18   0]\n",
      " [ 18   1  -8   6  -4  -9   4 -14  -9   2   0 -14 -12  10  -1  -3  12  15\n",
      "    9  18]\n",
      " [ -4  -2  14  18   8  -8  11  -2 -15   4 -13  18  17 -20   1  13  -7 -17\n",
      "   -2  -7]\n",
      " [ -8 -10 -19  18 -18  -6   0  10   8   4   7  16   1 -19  -1  -1  -8   1\n",
      "  -20 -16]\n",
      " [ -8  10 -10   3 -20 -19   4  -6 -10 -20   8  16   0   8 -12   3   3 -12\n",
      "    5  11]\n",
      " [-10 -15  -7   9 -12   0 -16   5  16 -11   7   6  -7   8 -10 -13 -11 -17\n",
      "   15 -10]]\n"
     ]
    }
   ],
   "source": [
    "\n",
    "A2=np.zeros((22,22))\n",
    "A2[1:20,1:20] = A[0:19,0:19]\n",
    "A2[1:20,0] = A[0:19,0]\n",
    "A2[1:20,21] = A[0:19,19]\n",
    "A2[0,1:20] = A[0,0:19]\n",
    "A2[21,1:20] = A[19,0:19]\n",
    "print(A2)\n",
    "print(A)"
   ]
  },
  {
   "cell_type": "markdown",
   "metadata": {},
   "source": [
    "### 3.3 Temps de calcul\n",
    "Reprendre l'exercice 2 du TME2 en utilisant Numpy: calculer les extremas d'un tableau numpy (de grande taille, par exemple l'image <tt>../TME2/img/genies-math.jpg</tt> convertie en niveaux de gris), en parcourant par indice les valeurs du tableau. Puis utiliser les méthodes <tt>min()</tt> et <tt>max()</tt>. Chronométrer les temps grâce aux fonctions <tt>tic()</tt> et <tt>tac()</tt>. Discuter ces temps."
   ]
  },
  {
   "cell_type": "code",
   "execution_count": 51,
   "metadata": {},
   "outputs": [
    {
     "name": "stdout",
     "output_type": "stream",
     "text": [
      "0 255\n",
      "8.3125\n",
      "255 0\n",
      "0.546875\n"
     ]
    }
   ],
   "source": [
    "from time import process_time\n",
    "from time import process_time\n",
    "mytime = 0\n",
    "def tic():\n",
    "    global mytime\n",
    "    mytime = process_time()\n",
    "def tac():\n",
    "    global mytime\n",
    "    print (process_time()-mytime)\n",
    "    mytime = process_time()\n",
    "\n",
    "tic()\n",
    "img=Image.open(\"img/genies-math.jpg\").convert('L')\n",
    "data=list(img.getdata())\n",
    "tab=np.array(data)\n",
    "mini=256\n",
    "maxi=0\n",
    "for i in range(len(tab)):\n",
    "        if tab[i]<mini :\n",
    "            mini=tab[i]\n",
    "        elif tab[i]>maxi:\n",
    "            maxi=tab[i]\n",
    "            \n",
    "print(mini,maxi)\n",
    "tac()\n",
    "\n",
    "tic()\n",
    "M=max(data)\n",
    "m=min(data)\n",
    "print(M,m)\n",
    "tac()"
   ]
  }
 ],
 "metadata": {
  "kernelspec": {
   "display_name": "Python 3",
   "language": "python",
   "name": "python3"
  },
  "language_info": {
   "codemirror_mode": {
    "name": "ipython",
    "version": 3
   },
   "file_extension": ".py",
   "mimetype": "text/x-python",
   "name": "python",
   "nbconvert_exporter": "python",
   "pygments_lexer": "ipython3",
   "version": "3.7.1"
  }
 },
 "nbformat": 4,
 "nbformat_minor": 2
}
